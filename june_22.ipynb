{
 "cells": [
  {
   "cell_type": "markdown",
   "id": "4d881e28",
   "metadata": {
    "slideshow": {
     "slide_type": "slide"
    }
   },
   "source": [
    "# Python + Pandas for Real-World Data\n",
    "## Data Wrangling Made Easy! "
   ]
  },
  {
   "cell_type": "markdown",
   "id": "6666d974",
   "metadata": {
    "slideshow": {
     "slide_type": "slide"
    }
   },
   "source": [
    "## Today\n",
    "\n",
    "- Data & Data Structure\n",
    "- Why Pandas ?\n",
    "- Installation\n",
    "- Pandas Data Structure\n",
    "- Creating DataFrames\n",
    "- Reading the files\n",
    "- Inspecting\n",
    "- Extracting Subsets\n",
    "- Data Cleaning\n"
   ]
  },
  {
   "cell_type": "markdown",
   "id": "2af2fce5",
   "metadata": {
    "slideshow": {
     "slide_type": "slide"
    }
   },
   "source": [
    "# Installation"
   ]
  },
  {
   "cell_type": "markdown",
   "id": "2d0928d8",
   "metadata": {
    "slideshow": {
     "slide_type": "subslide"
    }
   },
   "source": [
    "### Using pip\n",
    "\n",
    "```cmd\n",
    "  pip install pandas\n",
    "```"
   ]
  },
  {
   "cell_type": "markdown",
   "id": "bc80f6c2",
   "metadata": {
    "slideshow": {
     "slide_type": "fragment"
    }
   },
   "source": [
    "### Conda packages\n",
    "\n",
    "```python\n",
    "  conda install pandas\n",
    "    \n",
    "    or\n",
    "  \n",
    "  conda install -c conda-forge pandas\n",
    "```"
   ]
  },
  {
   "cell_type": "markdown",
   "id": "53b0fb60",
   "metadata": {
    "slideshow": {
     "slide_type": "subslide"
    }
   },
   "source": [
    "### Pandas is part of major Python distributions:\n",
    "\n",
    "* Anaconda\n",
    "* ActiveState ActivePython\n",
    "* WinPython\n",
    "etc"
   ]
  },
  {
   "cell_type": "markdown",
   "id": "69e4539e",
   "metadata": {
    "slideshow": {
     "slide_type": "fragment"
    }
   },
   "source": [
    "### Install from Github repository.\n",
    "\n",
    "[Pandas : Click here](https://github.com/pandas-dev/pandas)"
   ]
  },
  {
   "cell_type": "markdown",
   "id": "51310cfd",
   "metadata": {
    "slideshow": {
     "slide_type": "slide"
    }
   },
   "source": [
    "# Pandas Data Structure"
   ]
  },
  {
   "cell_type": "markdown",
   "id": "efb528ca",
   "metadata": {
    "slideshow": {
     "slide_type": "subslide"
    }
   },
   "source": [
    "- Series"
   ]
  },
  {
   "cell_type": "markdown",
   "id": "425f9a05",
   "metadata": {
    "slideshow": {
     "slide_type": "fragment"
    }
   },
   "source": [
    "- DataFrame"
   ]
  },
  {
   "cell_type": "markdown",
   "id": "96f260a5",
   "metadata": {
    "slideshow": {
     "slide_type": "slide"
    }
   },
   "source": [
    "# Creating Pandas DataStructure"
   ]
  },
  {
   "cell_type": "markdown",
   "id": "37477bde",
   "metadata": {
    "slideshow": {
     "slide_type": "slide"
    }
   },
   "source": [
    "## Series"
   ]
  },
  {
   "cell_type": "markdown",
   "id": "7793ccf1",
   "metadata": {
    "slideshow": {
     "slide_type": "subslide"
    }
   },
   "source": [
    "- list\n",
    "- tuple\n",
    "- dictionary"
   ]
  },
  {
   "cell_type": "code",
   "execution_count": null,
   "id": "342f220c",
   "metadata": {
    "slideshow": {
     "slide_type": "subslide"
    }
   },
   "outputs": [],
   "source": [
    "import pandas as pd"
   ]
  },
  {
   "cell_type": "code",
   "execution_count": null,
   "id": "07e5f692",
   "metadata": {
    "slideshow": {
     "slide_type": "subslide"
    }
   },
   "outputs": [],
   "source": [
    "even = [2, 4, 6, 8, 10, 12]\n",
    "\n",
    "series_data = pd.Series(even)\n",
    "series_data"
   ]
  },
  {
   "cell_type": "code",
   "execution_count": null,
   "id": "c301bfbd",
   "metadata": {
    "slideshow": {
     "slide_type": "subslide"
    }
   },
   "outputs": [],
   "source": [
    "series_data.name = \"even\""
   ]
  },
  {
   "cell_type": "code",
   "execution_count": null,
   "id": "3b7c7f3e",
   "metadata": {
    "slideshow": {
     "slide_type": "fragment"
    }
   },
   "outputs": [],
   "source": [
    "series_data.info"
   ]
  },
  {
   "cell_type": "code",
   "execution_count": null,
   "id": "3c9b6419",
   "metadata": {
    "slideshow": {
     "slide_type": "subslide"
    }
   },
   "outputs": [],
   "source": [
    "student = {'name':\"Kishore\", 'age':20, 'place':\"Bengaluru\", 'email':\"kishore@email.com\"}\n",
    "student_data = pd.Series(student)\n",
    "student_data"
   ]
  },
  {
   "cell_type": "code",
   "execution_count": null,
   "id": "b658df63",
   "metadata": {
    "slideshow": {
     "slide_type": "fragment"
    }
   },
   "outputs": [],
   "source": [
    "student_data.info"
   ]
  },
  {
   "cell_type": "markdown",
   "id": "4b5f41ba",
   "metadata": {
    "slideshow": {
     "slide_type": "slide"
    }
   },
   "source": [
    "# DataFrame"
   ]
  },
  {
   "cell_type": "code",
   "execution_count": null,
   "id": "7173d2dd",
   "metadata": {
    "slideshow": {
     "slide_type": "subslide"
    }
   },
   "outputs": [],
   "source": [
    "student = {\n",
    "    \"name\": ['Kishore', 'Vinay', 'Adithya', 'Kumar'],\n",
    "    \"place\": ['Bengaluru', 'Mysore', 'Bengaluru', 'Tumakuru']\n",
    "}\n",
    "\n",
    "student_df = pd.DataFrame(student)\n",
    "student_df"
   ]
  },
  {
   "cell_type": "code",
   "execution_count": null,
   "id": "43160a2c",
   "metadata": {
    "slideshow": {
     "slide_type": "subslide"
    }
   },
   "outputs": [],
   "source": [
    "student_df.index"
   ]
  },
  {
   "cell_type": "code",
   "execution_count": null,
   "id": "a581e2c6",
   "metadata": {
    "slideshow": {
     "slide_type": "fragment"
    }
   },
   "outputs": [],
   "source": [
    "student_df.columns"
   ]
  },
  {
   "cell_type": "code",
   "execution_count": null,
   "id": "d7029d5e",
   "metadata": {
    "slideshow": {
     "slide_type": "fragment"
    }
   },
   "outputs": [],
   "source": [
    "student_df.place.unique()"
   ]
  },
  {
   "cell_type": "markdown",
   "id": "86991084",
   "metadata": {
    "slideshow": {
     "slide_type": "slide"
    }
   },
   "source": [
    "# Reading the files"
   ]
  },
  {
   "cell_type": "code",
   "execution_count": null,
   "id": "ac2d0ccb",
   "metadata": {
    "slideshow": {
     "slide_type": "subslide"
    }
   },
   "outputs": [],
   "source": [
    "data = pd.read_csv('./data/clean_data_crop.csv')"
   ]
  },
  {
   "cell_type": "code",
   "execution_count": null,
   "id": "d483c263",
   "metadata": {
    "slideshow": {
     "slide_type": "subslide"
    }
   },
   "outputs": [],
   "source": [
    "data_excel = pd.read_excel('./data/State-Wise_Production_of_Foodgrains_and_Major_Non-Foodgrain_Crops.xlsx')"
   ]
  },
  {
   "cell_type": "markdown",
   "id": "403125e1",
   "metadata": {
    "slideshow": {
     "slide_type": "subslide"
    }
   },
   "source": [
    "## Installing Pandas-Extra\n",
    "\n",
    "- `pip install pandas[excel]`\n",
    "- `pip install pandas[all]`"
   ]
  },
  {
   "cell_type": "markdown",
   "id": "cfe1ecfe",
   "metadata": {
    "slideshow": {
     "slide_type": "slide"
    }
   },
   "source": [
    "# Inspecting\n"
   ]
  },
  {
   "cell_type": "markdown",
   "id": "27fb75b0",
   "metadata": {
    "slideshow": {
     "slide_type": "fragment"
    }
   },
   "source": [
    "checking how the data looks like, how many rows/columns there are, and how much data we have."
   ]
  },
  {
   "cell_type": "markdown",
   "id": "a3514b5f",
   "metadata": {
    "slideshow": {
     "slide_type": "subslide"
    }
   },
   "source": [
    "### How many rows and columns are there?"
   ]
  },
  {
   "cell_type": "code",
   "execution_count": null,
   "id": "1d5f9306",
   "metadata": {
    "slideshow": {
     "slide_type": "fragment"
    }
   },
   "outputs": [],
   "source": [
    "data.shape"
   ]
  },
  {
   "cell_type": "markdown",
   "id": "29abe036",
   "metadata": {
    "slideshow": {
     "slide_type": "fragment"
    }
   },
   "source": [
    "### Column names"
   ]
  },
  {
   "cell_type": "code",
   "execution_count": null,
   "id": "4a5406c2",
   "metadata": {
    "slideshow": {
     "slide_type": "fragment"
    }
   },
   "outputs": [],
   "source": [
    "data.columns"
   ]
  },
  {
   "cell_type": "markdown",
   "id": "f8eefc67",
   "metadata": {
    "slideshow": {
     "slide_type": "subslide"
    }
   },
   "source": [
    "### Data Types"
   ]
  },
  {
   "cell_type": "code",
   "execution_count": null,
   "id": "6376d3ec",
   "metadata": {
    "slideshow": {
     "slide_type": "fragment"
    }
   },
   "outputs": [],
   "source": [
    "data.dtypes"
   ]
  },
  {
   "cell_type": "markdown",
   "id": "d7cdf1c0",
   "metadata": {
    "slideshow": {
     "slide_type": "subslide"
    }
   },
   "source": [
    "### What does the data look like?"
   ]
  },
  {
   "cell_type": "code",
   "execution_count": null,
   "id": "9aa82941",
   "metadata": {
    "slideshow": {
     "slide_type": "fragment"
    }
   },
   "outputs": [],
   "source": [
    "data.head()"
   ]
  },
  {
   "cell_type": "code",
   "execution_count": null,
   "id": "8a20f2e0",
   "metadata": {
    "slideshow": {
     "slide_type": "subslide"
    }
   },
   "outputs": [],
   "source": [
    "data.tail()"
   ]
  },
  {
   "cell_type": "markdown",
   "id": "29c5561a",
   "metadata": {
    "slideshow": {
     "slide_type": "subslide"
    }
   },
   "source": [
    "### Information on DataFrames"
   ]
  },
  {
   "cell_type": "code",
   "execution_count": null,
   "id": "cd9ace29",
   "metadata": {
    "slideshow": {
     "slide_type": "fragment"
    }
   },
   "outputs": [],
   "source": [
    "data.info()"
   ]
  },
  {
   "cell_type": "markdown",
   "id": "f0ec5ae1",
   "metadata": {
    "slideshow": {
     "slide_type": "slide"
    }
   },
   "source": [
    "# Extracting Subsets"
   ]
  },
  {
   "cell_type": "markdown",
   "id": "549e48ea",
   "metadata": {
    "slideshow": {
     "slide_type": "subslide"
    }
   },
   "source": [
    "- Extracting Subsets\n",
    "- Filtering\n",
    "- "
   ]
  },
  {
   "cell_type": "markdown",
   "id": "6d49de2d",
   "metadata": {
    "slideshow": {
     "slide_type": "slide"
    }
   },
   "source": [
    "## Selecting Columns"
   ]
  },
  {
   "cell_type": "code",
   "execution_count": null,
   "id": "993220fe",
   "metadata": {
    "slideshow": {
     "slide_type": "fragment"
    }
   },
   "outputs": [],
   "source": [
    "data.State"
   ]
  },
  {
   "cell_type": "code",
   "execution_count": null,
   "id": "0db26203",
   "metadata": {
    "slideshow": {
     "slide_type": "subslide"
    }
   },
   "outputs": [],
   "source": [
    "data['State']"
   ]
  },
  {
   "cell_type": "markdown",
   "id": "dda69e7a",
   "metadata": {
    "slideshow": {
     "slide_type": "slide"
    }
   },
   "source": [
    "## Multiple selection"
   ]
  },
  {
   "cell_type": "markdown",
   "id": "4565b267",
   "metadata": {
    "slideshow": {
     "slide_type": "fragment"
    }
   },
   "source": [
    "create another data frame with info of *State*, *Year*, *Rice*."
   ]
  },
  {
   "cell_type": "code",
   "execution_count": null,
   "id": "e5930c00",
   "metadata": {
    "slideshow": {
     "slide_type": "subslide"
    }
   },
   "outputs": [],
   "source": [
    "data[['State','Year', 'Rice']]"
   ]
  },
  {
   "cell_type": "markdown",
   "id": "3dbf468a",
   "metadata": {
    "slideshow": {
     "slide_type": "slide"
    }
   },
   "source": [
    "## Selecting Rows"
   ]
  },
  {
   "cell_type": "markdown",
   "id": "ebdfb507",
   "metadata": {
    "slideshow": {
     "slide_type": "subslide"
    }
   },
   "source": [
    "Selecting rows 11 to 20"
   ]
  },
  {
   "cell_type": "code",
   "execution_count": null,
   "id": "eb56415c",
   "metadata": {
    "slideshow": {
     "slide_type": "fragment"
    }
   },
   "outputs": [],
   "source": [
    "data[11:21]"
   ]
  },
  {
   "cell_type": "markdown",
   "id": "05df5e7c",
   "metadata": {
    "slideshow": {
     "slide_type": "slide"
    }
   },
   "source": [
    "## Indexing"
   ]
  },
  {
   "cell_type": "markdown",
   "id": "d3b8bfde",
   "metadata": {
    "slideshow": {
     "slide_type": "fragment"
    }
   },
   "source": [
    "- `iloc[]` by their position\n",
    "- `loc[]` by ther name"
   ]
  },
  {
   "cell_type": "code",
   "execution_count": null,
   "id": "d9f93a1c",
   "metadata": {
    "slideshow": {
     "slide_type": "subslide"
    }
   },
   "outputs": [],
   "source": [
    "data.iloc[10:21]"
   ]
  },
  {
   "cell_type": "code",
   "execution_count": null,
   "id": "32a5e7e7",
   "metadata": {
    "slideshow": {
     "slide_type": "subslide"
    }
   },
   "outputs": [],
   "source": [
    "data.iloc[30:35, 0:4]"
   ]
  },
  {
   "cell_type": "code",
   "execution_count": null,
   "id": "c9294396",
   "metadata": {
    "slideshow": {
     "slide_type": "subslide"
    }
   },
   "outputs": [],
   "source": [
    "data.loc[30:35, 'State':'Wheat']"
   ]
  },
  {
   "cell_type": "markdown",
   "id": "b52d1821",
   "metadata": {
    "slideshow": {
     "slide_type": "slide"
    }
   },
   "source": [
    "## Filtering"
   ]
  },
  {
   "cell_type": "markdown",
   "id": "66e6660f",
   "metadata": {
    "slideshow": {
     "slide_type": "fragment"
    }
   },
   "source": [
    "using **Boolean Mask**"
   ]
  },
  {
   "cell_type": "code",
   "execution_count": null,
   "id": "3090fbd1",
   "metadata": {
    "slideshow": {
     "slide_type": "subslide"
    }
   },
   "outputs": [],
   "source": [
    "data['State'] == 'Karnataka'"
   ]
  },
  {
   "cell_type": "code",
   "execution_count": null,
   "id": "fbe05949",
   "metadata": {
    "slideshow": {
     "slide_type": "subslide"
    }
   },
   "outputs": [],
   "source": [
    "data[data['State'] == 'Karnataka']"
   ]
  },
  {
   "cell_type": "code",
   "execution_count": null,
   "id": "04901852",
   "metadata": {
    "slideshow": {
     "slide_type": "subslide"
    }
   },
   "outputs": [],
   "source": [
    "data[data['Rice']>15000][['State', 'Year', 'Rice']]"
   ]
  },
  {
   "cell_type": "markdown",
   "id": "efecd66e",
   "metadata": {
    "slideshow": {
     "slide_type": "slide"
    }
   },
   "source": [
    "# Summary Statistics"
   ]
  },
  {
   "cell_type": "markdown",
   "id": "189dea3a",
   "metadata": {
    "slideshow": {
     "slide_type": "subslide"
    }
   },
   "source": [
    "- `value_counts()`\n",
    "- `sum()`\n",
    "- `min()`\n",
    "- `max()`\n",
    "- `unique()`, `nunique()`\n",
    "- `describe()`"
   ]
  },
  {
   "cell_type": "code",
   "execution_count": null,
   "id": "897d1ff9",
   "metadata": {
    "slideshow": {
     "slide_type": "subslide"
    }
   },
   "outputs": [],
   "source": [
    "data.State.value_counts()"
   ]
  },
  {
   "cell_type": "code",
   "execution_count": null,
   "id": "381bfd94",
   "metadata": {
    "slideshow": {
     "slide_type": "subslide"
    }
   },
   "outputs": [],
   "source": [
    "data.describe()"
   ]
  },
  {
   "cell_type": "code",
   "execution_count": null,
   "id": "db31df5e",
   "metadata": {
    "slideshow": {
     "slide_type": "subslide"
    }
   },
   "outputs": [],
   "source": [
    "data.describe(include='all')"
   ]
  },
  {
   "cell_type": "markdown",
   "id": "93dbffca",
   "metadata": {
    "slideshow": {
     "slide_type": "slide"
    }
   },
   "source": [
    "# Data Cleaning"
   ]
  },
  {
   "cell_type": "markdown",
   "id": "1da6f663",
   "metadata": {
    "slideshow": {
     "slide_type": "subslide"
    }
   },
   "source": [
    "- Removing columns\n",
    "- **Alter data type of column**\n",
    "- Creating new column"
   ]
  },
  {
   "cell_type": "code",
   "execution_count": null,
   "id": "9edeccfc",
   "metadata": {
    "slideshow": {
     "slide_type": "subslide"
    }
   },
   "outputs": [],
   "source": [
    "data = data.drop(columns='Oilseeds')\n",
    "data.head()"
   ]
  },
  {
   "cell_type": "code",
   "execution_count": null,
   "id": "3c267cf1",
   "metadata": {
    "slideshow": {
     "slide_type": "subslide"
    }
   },
   "outputs": [],
   "source": [
    "data['Sugarcane'] = data['Sugarcane'].apply(pd.to_numeric)\n",
    "data.info()"
   ]
  },
  {
   "cell_type": "code",
   "execution_count": null,
   "id": "2b1f25ab",
   "metadata": {
    "slideshow": {
     "slide_type": "subslide"
    }
   },
   "outputs": [],
   "source": [
    "data['Sugarcane'] = data['Sugarcane'].str.replace(',','')\n",
    "data['Sugarcane'] = data['Sugarcane'].apply(pd.to_numeric)\n",
    "data.info()"
   ]
  }
 ],
 "metadata": {
  "celltoolbar": "Slideshow",
  "kernelspec": {
   "display_name": "Python 3 (ipykernel)",
   "language": "python",
   "name": "python3"
  },
  "language_info": {
   "codemirror_mode": {
    "name": "ipython",
    "version": 3
   },
   "file_extension": ".py",
   "mimetype": "text/x-python",
   "name": "python",
   "nbconvert_exporter": "python",
   "pygments_lexer": "ipython3",
   "version": "3.13.1"
  },
  "rise": {
   "autolaunch": true,
   "enable_chalkboard": true,
   "footer": "<h3>Python+Pandas</h3>",
   "header": "<h1>Skill Disk</h1>",
   "scroll": true,
   "theme": "night",
   "transition": "fade"
  }
 },
 "nbformat": 4,
 "nbformat_minor": 5
}
