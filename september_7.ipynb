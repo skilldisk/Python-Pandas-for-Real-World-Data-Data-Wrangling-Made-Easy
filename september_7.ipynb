{
 "cells": [
  {
   "cell_type": "markdown",
   "id": "4d881e28",
   "metadata": {
    "slideshow": {
     "slide_type": "slide"
    }
   },
   "source": [
    "# Next-Level Data Science\n",
    "## Web Data Extraction & Analysis with Pandas"
   ]
  },
  {
   "cell_type": "markdown",
   "id": "ef30d0aa",
   "metadata": {
    "slideshow": {
     "slide_type": "slide"
    }
   },
   "source": [
    "## Today\n",
    "\n",
    "- Why is this workshop ?\n",
    "- About Speaker\n",
    "- Recap of `Python + Pandas`\n",
    "- Snippets Download\n",
    "- XML Data\n",
    "- Web Page\n",
    "- Feedbacks & Solutions\n",
    "- API Data\n",
    "- Q & A\n"
   ]
  },
  {
   "cell_type": "markdown",
   "id": "0ffe8f05",
   "metadata": {
    "slideshow": {
     "slide_type": "slide"
    }
   },
   "source": [
    "# Recap of Python + Pandas"
   ]
  },
  {
   "cell_type": "markdown",
   "id": "7fae478a",
   "metadata": {
    "slideshow": {
     "slide_type": "slide"
    }
   },
   "source": [
    "# Pandas Data Structure"
   ]
  },
  {
   "cell_type": "markdown",
   "id": "aae46700",
   "metadata": {
    "slideshow": {
     "slide_type": "subslide"
    }
   },
   "source": [
    "- Series"
   ]
  },
  {
   "cell_type": "markdown",
   "id": "dd9f4f5e",
   "metadata": {
    "slideshow": {
     "slide_type": "fragment"
    }
   },
   "source": [
    "- DataFrame"
   ]
  },
  {
   "cell_type": "markdown",
   "id": "44d6c609",
   "metadata": {
    "slideshow": {
     "slide_type": "slide"
    }
   },
   "source": [
    "# Creating Pandas DataStructure"
   ]
  },
  {
   "cell_type": "markdown",
   "id": "47ce6a20",
   "metadata": {
    "slideshow": {
     "slide_type": "slide"
    }
   },
   "source": [
    "## Series"
   ]
  },
  {
   "cell_type": "markdown",
   "id": "59aa788c",
   "metadata": {
    "slideshow": {
     "slide_type": "subslide"
    }
   },
   "source": [
    "- list\n",
    "- tuple\n",
    "- dictionary"
   ]
  },
  {
   "cell_type": "code",
   "execution_count": null,
   "id": "924dc0be",
   "metadata": {
    "slideshow": {
     "slide_type": "subslide"
    }
   },
   "outputs": [],
   "source": [
    "import pandas as pd"
   ]
  },
  {
   "cell_type": "code",
   "execution_count": null,
   "id": "15a82aeb",
   "metadata": {
    "slideshow": {
     "slide_type": "subslide"
    }
   },
   "outputs": [],
   "source": [
    "even = [2, 4, 6, 8, 10, 12]\n",
    "\n",
    "series_data = pd.Series(even)\n",
    "series_data"
   ]
  },
  {
   "cell_type": "code",
   "execution_count": null,
   "id": "5334bac6",
   "metadata": {
    "slideshow": {
     "slide_type": "subslide"
    }
   },
   "outputs": [],
   "source": [
    "series_data.name = \"even\""
   ]
  },
  {
   "cell_type": "code",
   "execution_count": null,
   "id": "d5cfd28c",
   "metadata": {
    "slideshow": {
     "slide_type": "fragment"
    }
   },
   "outputs": [],
   "source": [
    "series_data.info"
   ]
  },
  {
   "cell_type": "code",
   "execution_count": null,
   "id": "e276333e",
   "metadata": {
    "slideshow": {
     "slide_type": "subslide"
    }
   },
   "outputs": [],
   "source": [
    "student = {'name':\"Kishore\", 'age':20, 'place':\"Bengaluru\", 'email':\"kishore@email.com\"}\n",
    "student_data = pd.Series(student)\n",
    "student_data"
   ]
  },
  {
   "cell_type": "code",
   "execution_count": null,
   "id": "bd2adc60",
   "metadata": {
    "slideshow": {
     "slide_type": "fragment"
    }
   },
   "outputs": [],
   "source": [
    "student_data.info"
   ]
  },
  {
   "cell_type": "markdown",
   "id": "8410da08",
   "metadata": {
    "slideshow": {
     "slide_type": "slide"
    }
   },
   "source": [
    "# DataFrame"
   ]
  },
  {
   "cell_type": "code",
   "execution_count": null,
   "id": "bbd6abaa",
   "metadata": {
    "slideshow": {
     "slide_type": "subslide"
    }
   },
   "outputs": [],
   "source": [
    "student = {\n",
    "    \"name\": ['Kishore', 'Vinay', 'Adithya', 'Kumar', 'Vijaya'],\n",
    "    \"place\": ['Bengaluru', 'Mysore', 'Bengaluru', 'Tumakuru', 'Mysore'],\n",
    "    \"age\": [21, 23, 20, 21, 19]\n",
    "}\n",
    "\n",
    "student_df = pd.DataFrame(student)\n",
    "student_df"
   ]
  },
  {
   "cell_type": "code",
   "execution_count": null,
   "id": "e5de8055",
   "metadata": {
    "slideshow": {
     "slide_type": "subslide"
    }
   },
   "outputs": [],
   "source": [
    "student_df.shape"
   ]
  },
  {
   "cell_type": "code",
   "execution_count": null,
   "id": "6037caf8",
   "metadata": {
    "slideshow": {
     "slide_type": "subslide"
    }
   },
   "outputs": [],
   "source": [
    "student_df.index"
   ]
  },
  {
   "cell_type": "code",
   "execution_count": null,
   "id": "8d52a749",
   "metadata": {
    "slideshow": {
     "slide_type": "fragment"
    }
   },
   "outputs": [],
   "source": [
    "student_df.columns"
   ]
  },
  {
   "cell_type": "code",
   "execution_count": null,
   "id": "219d4007",
   "metadata": {
    "slideshow": {
     "slide_type": "fragment"
    }
   },
   "outputs": [],
   "source": [
    "student_df.name"
   ]
  },
  {
   "cell_type": "markdown",
   "id": "9d8f0917",
   "metadata": {
    "slideshow": {
     "slide_type": "slide"
    }
   },
   "source": [
    "# XML Data"
   ]
  },
  {
   "cell_type": "markdown",
   "id": "d6d7bed2",
   "metadata": {
    "slideshow": {
     "slide_type": "subslide"
    }
   },
   "source": [
    "## Simple XML Data"
   ]
  },
  {
   "cell_type": "markdown",
   "id": "f2cb048d",
   "metadata": {
    "slideshow": {
     "slide_type": "fragment"
    }
   },
   "source": [
    "\n",
    "```xml\n",
    "<?xml version=\"1.0\" encoding=\"UTF-8\"?>\n",
    "<catalog>\n",
    "    <board>\n",
    "        <name>Raspberry Pi Pico W</name>\n",
    "        <controller>RP2040</controller>\n",
    "        <cost>750</cost>\n",
    "    </board>\n",
    "    <board>\n",
    "        <name>Raspberry Pi Pico 2W</name>\n",
    "        <controller>RP2350</controller>\n",
    "        <cost>950</cost>\n",
    "    </board>\n",
    "    <board>\n",
    "        <name>Arduino Nano</name>\n",
    "        <controller>Atmega328P</controller>\n",
    "        <cost>600</cost>\n",
    "    </board>\n",
    "    <board>\n",
    "        <name>Arduino Uno</name>\n",
    "        <controller>Atmega328P</controller>\n",
    "        <cost>1200</cost>\n",
    "    </board>\n",
    "    <board>\n",
    "        <name>NodeMCU ESP8266</name>\n",
    "        <controller>ESP32</controller>\n",
    "        <cost>550</cost>\n",
    "    </board>\n",
    "</catalog>\n",
    "\n",
    "```"
   ]
  },
  {
   "cell_type": "code",
   "execution_count": null,
   "id": "976e0785",
   "metadata": {
    "slideshow": {
     "slide_type": "subslide"
    }
   },
   "outputs": [],
   "source": [
    "xml_data = '''<?xml version=\"1.0\" encoding=\"UTF-8\"?>\n",
    "<catalog>\n",
    "    <board>\n",
    "        <name>Raspberry Pi Pico W</name>\n",
    "        <controller>RP2040</controller>\n",
    "        <cost>750</cost>\n",
    "    </board>\n",
    "    <board>\n",
    "        <name>Raspberry Pi Pico 2W</name>\n",
    "        <controller>RP2350</controller>\n",
    "        <cost>950</cost>\n",
    "    </board>\n",
    "    <board>\n",
    "        <name>Arduino Nano</name>\n",
    "        <controller>Atmega328P</controller>\n",
    "        <cost>600</cost>\n",
    "    </board>\n",
    "    <board>\n",
    "        <name>Arduino Uno</name>\n",
    "        <controller>Atmega328P</controller>\n",
    "        <cost>1200</cost>\n",
    "    </board>\n",
    "    <board>\n",
    "        <name>NodeMCU ESP8266</name>\n",
    "        <controller>ESP32</controller>\n",
    "        <cost>550</cost>\n",
    "    </board>\n",
    "</catalog>\n",
    "'''"
   ]
  },
  {
   "cell_type": "code",
   "execution_count": null,
   "id": "7a87bde7",
   "metadata": {
    "slideshow": {
     "slide_type": "subslide"
    }
   },
   "outputs": [],
   "source": [
    "import pandas as pd\n",
    "from io import StringIO\n",
    "\n",
    "xml_pd = pd.read_xml(StringIO(xml_data))"
   ]
  },
  {
   "cell_type": "code",
   "execution_count": null,
   "id": "68c7a5cb",
   "metadata": {
    "slideshow": {
     "slide_type": "subslide"
    }
   },
   "outputs": [],
   "source": [
    "xml_pd"
   ]
  },
  {
   "cell_type": "markdown",
   "id": "7e5d4f27",
   "metadata": {
    "slideshow": {
     "slide_type": "subslide"
    }
   },
   "source": [
    "# SEO\n",
    "\n",
    "## Infosys Sitemap XML"
   ]
  },
  {
   "cell_type": "markdown",
   "id": "7851d773",
   "metadata": {
    "slideshow": {
     "slide_type": "fragment"
    }
   },
   "source": [
    "url = \"https://www.infosys.com/sitemap.xml\""
   ]
  },
  {
   "cell_type": "code",
   "execution_count": null,
   "id": "e143c579",
   "metadata": {
    "slideshow": {
     "slide_type": "subslide"
    }
   },
   "outputs": [],
   "source": [
    "infosys_url = \"https://www.infosys.com/sitemap.xml\"\n",
    "\n",
    "infosys_pd = pd.read_xml(infosys_url)"
   ]
  },
  {
   "cell_type": "code",
   "execution_count": null,
   "id": "28f49e84",
   "metadata": {
    "slideshow": {
     "slide_type": "subslide"
    }
   },
   "outputs": [],
   "source": [
    "infosys_pd"
   ]
  },
  {
   "cell_type": "code",
   "execution_count": null,
   "id": "2912135f",
   "metadata": {
    "slideshow": {
     "slide_type": "subslide"
    }
   },
   "outputs": [],
   "source": [
    "infosys_pd.shape"
   ]
  },
  {
   "cell_type": "code",
   "execution_count": null,
   "id": "01934578",
   "metadata": {
    "slideshow": {
     "slide_type": "fragment"
    }
   },
   "outputs": [],
   "source": [
    "infosys_pd['loc'].nunique()"
   ]
  },
  {
   "cell_type": "code",
   "execution_count": null,
   "id": "b6bb41cb",
   "metadata": {
    "slideshow": {
     "slide_type": "fragment"
    }
   },
   "outputs": [],
   "source": [
    "infosys_pd.changefreq.value_counts()"
   ]
  },
  {
   "cell_type": "markdown",
   "id": "9da3d99b",
   "metadata": {
    "slideshow": {
     "slide_type": "subslide"
    }
   },
   "source": [
    "# Hourly Check ?"
   ]
  },
  {
   "cell_type": "code",
   "execution_count": null,
   "id": "d8b20646",
   "metadata": {
    "slideshow": {
     "slide_type": "subslide"
    }
   },
   "outputs": [],
   "source": [
    "infosys_pd[infosys_pd.changefreq == 'hourly']"
   ]
  },
  {
   "cell_type": "code",
   "execution_count": null,
   "id": "de315dce",
   "metadata": {
    "slideshow": {
     "slide_type": "fragment"
    }
   },
   "outputs": [],
   "source": [
    "infosys_pd[infosys_pd.changefreq == 'hourly'].iloc[0]['loc']"
   ]
  },
  {
   "cell_type": "code",
   "execution_count": null,
   "id": "1e318a36",
   "metadata": {
    "slideshow": {
     "slide_type": "subslide"
    }
   },
   "outputs": [],
   "source": [
    "# filtering for daily updated url links\n",
    "\n",
    "infosys_pd.changefreq == 'daily'"
   ]
  },
  {
   "cell_type": "code",
   "execution_count": null,
   "id": "167fb7e6",
   "metadata": {
    "scrolled": true,
    "slideshow": {
     "slide_type": "subslide"
    }
   },
   "outputs": [],
   "source": [
    "infosys_pd[infosys_pd.changefreq == 'daily']"
   ]
  },
  {
   "cell_type": "code",
   "execution_count": null,
   "id": "0ac530a2",
   "metadata": {
    "slideshow": {
     "slide_type": "subslide"
    }
   },
   "outputs": [],
   "source": [
    "infosys_pd[(infosys_pd['changefreq'] == 'daily') & (infosys_pd['priority'] == 1.0)]"
   ]
  },
  {
   "cell_type": "markdown",
   "id": "5a24c4fd",
   "metadata": {
    "slideshow": {
     "slide_type": "slide"
    }
   },
   "source": [
    "# HTML"
   ]
  },
  {
   "cell_type": "markdown",
   "id": "e3d813f8",
   "metadata": {
    "slideshow": {
     "slide_type": "subslide"
    }
   },
   "source": [
    "## FDIC\n",
    "\n",
    "### Federal Deposit Insurance Corporation\n",
    "\n",
    "[Failed Bank List](https://www.fdic.gov/bank-failures/failed-bank-list)"
   ]
  },
  {
   "cell_type": "code",
   "execution_count": null,
   "id": "f8803129",
   "metadata": {
    "slideshow": {
     "slide_type": "subslide"
    }
   },
   "outputs": [],
   "source": [
    "bank_html = pd.read_html(\"https://www.fdic.gov/bank-failures/failed-bank-list\")"
   ]
  },
  {
   "cell_type": "code",
   "execution_count": null,
   "id": "bbb9a207",
   "metadata": {
    "slideshow": {
     "slide_type": "subslide"
    }
   },
   "outputs": [],
   "source": [
    "bank_html"
   ]
  },
  {
   "cell_type": "code",
   "execution_count": null,
   "id": "792e5497",
   "metadata": {
    "slideshow": {
     "slide_type": "subslide"
    }
   },
   "outputs": [],
   "source": [
    "type(bank_html)"
   ]
  },
  {
   "cell_type": "code",
   "execution_count": null,
   "id": "326db9c2",
   "metadata": {
    "slideshow": {
     "slide_type": "fragment"
    }
   },
   "outputs": [],
   "source": [
    "len(bank_html)"
   ]
  },
  {
   "cell_type": "code",
   "execution_count": null,
   "id": "a1cf5277",
   "metadata": {
    "slideshow": {
     "slide_type": "subslide"
    }
   },
   "outputs": [],
   "source": [
    "bank_pd = pd.DataFrame(bank_html[0])"
   ]
  },
  {
   "cell_type": "code",
   "execution_count": null,
   "id": "cf405ad4",
   "metadata": {
    "scrolled": true,
    "slideshow": {
     "slide_type": "subslide"
    }
   },
   "outputs": [],
   "source": [
    "bank_pd"
   ]
  },
  {
   "cell_type": "markdown",
   "id": "fad0bd70",
   "metadata": {
    "slideshow": {
     "slide_type": "subslide"
    }
   },
   "source": [
    "## Is it only 24 Rows ?"
   ]
  },
  {
   "cell_type": "markdown",
   "id": "477c65e0",
   "metadata": {
    "slideshow": {
     "slide_type": "fragment"
    }
   },
   "source": [
    "[Failed Bank List](https://www.fdic.gov/bank-failures/failed-bank-list)"
   ]
  },
  {
   "cell_type": "code",
   "execution_count": null,
   "id": "a7676f7d",
   "metadata": {
    "slideshow": {
     "slide_type": "subslide"
    }
   },
   "outputs": [],
   "source": [
    "url = \"https://www.fdic.gov/bank-failures/failed-bank-list?pg=\"\n",
    "contents = []\n",
    "\n",
    "for i in range(1,24):\n",
    "    url_p = \"https://www.fdic.gov/bank-failures/failed-bank-list?pg=\" + str(i)\n",
    "    contents.append(pd.read_html(url_p))\n",
    "\n",
    "len(contents)"
   ]
  },
  {
   "cell_type": "code",
   "execution_count": null,
   "id": "a5bf5205",
   "metadata": {
    "slideshow": {
     "slide_type": "subslide"
    }
   },
   "outputs": [],
   "source": [
    "datas = []\n",
    "\n",
    "for content in contents:\n",
    "    datas.append(pd.DataFrame(content[0]))\n",
    "\n",
    "all_bank_pd = pd.concat(datas)"
   ]
  },
  {
   "cell_type": "code",
   "execution_count": null,
   "id": "1b13c6b2",
   "metadata": {
    "slideshow": {
     "slide_type": "subslide"
    }
   },
   "outputs": [],
   "source": [
    "all_bank_pd"
   ]
  },
  {
   "cell_type": "markdown",
   "id": "ad329b86",
   "metadata": {
    "slideshow": {
     "slide_type": "subslide"
    }
   },
   "source": [
    "## Reindex"
   ]
  },
  {
   "cell_type": "code",
   "execution_count": null,
   "id": "396a9934",
   "metadata": {
    "slideshow": {
     "slide_type": "subslide"
    }
   },
   "outputs": [],
   "source": [
    "all_bank_pd = all_bank_pd.reset_index(drop=True)\n",
    "all_bank_pd"
   ]
  },
  {
   "cell_type": "markdown",
   "id": "1831a317",
   "metadata": {
    "slideshow": {
     "slide_type": "slide"
    }
   },
   "source": [
    "# Feedbacks & Solutions"
   ]
  },
  {
   "cell_type": "markdown",
   "id": "a88ee57a",
   "metadata": {
    "slideshow": {
     "slide_type": "subslide"
    }
   },
   "source": [
    "## Requests\n",
    "\n",
    "- Video Recording\n",
    "- Session on Weekdays\n",
    "- Complete Series in a stretch"
   ]
  },
  {
   "cell_type": "markdown",
   "id": "18f89554",
   "metadata": {
    "slideshow": {
     "slide_type": "subslide"
    }
   },
   "source": [
    "## Issues faced\n",
    "\n",
    "- Time and Effort\n",
    "- No of participants\n",
    "- No Feedback's "
   ]
  },
  {
   "cell_type": "markdown",
   "id": "f9c22eda",
   "metadata": {
    "slideshow": {
     "slide_type": "subslide"
    }
   },
   "source": [
    "## Solutions\n",
    "\n",
    "- Live Sessions on Youtube\n",
    "- Introductory: 14 day IoT Internship \n",
    "- Feedback > Certificate "
   ]
  },
  {
   "cell_type": "markdown",
   "id": "b112bb49",
   "metadata": {
    "slideshow": {
     "slide_type": "slide"
    }
   },
   "source": [
    "# API\n",
    "\n",
    "## Application Programmable Interface"
   ]
  },
  {
   "cell_type": "markdown",
   "id": "3f12ef7b",
   "metadata": {
    "slideshow": {
     "slide_type": "subslide"
    }
   },
   "source": [
    "# JSON\n",
    "## JavsScript Object Notation"
   ]
  },
  {
   "cell_type": "code",
   "execution_count": null,
   "id": "030f863c",
   "metadata": {
    "slideshow": {
     "slide_type": "subslide"
    }
   },
   "outputs": [],
   "source": [
    "todo_url = \"https://jsonplaceholder.typicode.com/todos/\"\n",
    "todo_pd = pd.read_json(todo_url)"
   ]
  },
  {
   "cell_type": "code",
   "execution_count": null,
   "id": "2ed9b0f5",
   "metadata": {
    "slideshow": {
     "slide_type": "subslide"
    }
   },
   "outputs": [],
   "source": [
    "todo_pd"
   ]
  },
  {
   "cell_type": "code",
   "execution_count": null,
   "id": "caed1b82",
   "metadata": {
    "slideshow": {
     "slide_type": "subslide"
    }
   },
   "outputs": [],
   "source": [
    "dummy_user_url = \"https://dummyjson.com/users\"\n",
    "users = pd.read_json(dummy_user_url)"
   ]
  },
  {
   "cell_type": "code",
   "execution_count": null,
   "id": "38c597b2",
   "metadata": {
    "slideshow": {
     "slide_type": "subslide"
    }
   },
   "outputs": [],
   "source": [
    "users"
   ]
  },
  {
   "cell_type": "code",
   "execution_count": null,
   "id": "d133161b",
   "metadata": {
    "slideshow": {
     "slide_type": "subslide"
    }
   },
   "outputs": [],
   "source": [
    "users_df = pd.json_normalize(users['users'])"
   ]
  },
  {
   "cell_type": "code",
   "execution_count": null,
   "id": "c3fcdb2a",
   "metadata": {
    "slideshow": {
     "slide_type": "subslide"
    }
   },
   "outputs": [],
   "source": [
    "users_df"
   ]
  },
  {
   "cell_type": "code",
   "execution_count": null,
   "id": "e3cac8e8",
   "metadata": {
    "slideshow": {
     "slide_type": "subslide"
    }
   },
   "outputs": [],
   "source": [
    "users_df.gender.value_counts()"
   ]
  },
  {
   "cell_type": "markdown",
   "id": "22474553",
   "metadata": {
    "slideshow": {
     "slide_type": "subslide"
    }
   },
   "source": [
    "# NASA\n",
    "\n",
    "## Meteorite Landing\n",
    "\n",
    "[link](https://data.nasa.gov/docs/legacy/meteorite_landings/gh4g-9sfh.json)"
   ]
  },
  {
   "cell_type": "code",
   "execution_count": null,
   "id": "d0a3ed02",
   "metadata": {
    "slideshow": {
     "slide_type": "subslide"
    }
   },
   "outputs": [],
   "source": [
    "url = \"https://data.nasa.gov/docs/legacy/meteorite_landings/gh4g-9sfh.json\"\n",
    "nasa_df = pd.read_json(url)"
   ]
  },
  {
   "cell_type": "code",
   "execution_count": null,
   "id": "e4cfde4c",
   "metadata": {
    "scrolled": true,
    "slideshow": {
     "slide_type": "subslide"
    }
   },
   "outputs": [],
   "source": [
    "nasa_df"
   ]
  }
 ],
 "metadata": {
  "celltoolbar": "Slideshow",
  "kernelspec": {
   "display_name": "Python 3 (ipykernel)",
   "language": "python",
   "name": "python3"
  },
  "language_info": {
   "codemirror_mode": {
    "name": "ipython",
    "version": 3
   },
   "file_extension": ".py",
   "mimetype": "text/x-python",
   "name": "python",
   "nbconvert_exporter": "python",
   "pygments_lexer": "ipython3",
   "version": "3.13.2"
  },
  "rise": {
   "autolaunch": true,
   "enable_chalkboard": true,
   "footer": "<h3>Python + WEB + Pandas</h3>",
   "header": "<h1>Skill Disk</h1>",
   "scroll": true,
   "theme": "night",
   "transition": "fade"
  }
 },
 "nbformat": 4,
 "nbformat_minor": 5
}
