{
 "cells": [
  {
   "cell_type": "markdown",
   "id": "4d881e28",
   "metadata": {
    "slideshow": {
     "slide_type": "slide"
    }
   },
   "source": [
    "# The Data Scientist’s Toolkit\n",
    "## Data Analysis with Pandas + Matplotlib"
   ]
  },
  {
   "cell_type": "markdown",
   "id": "ef30d0aa",
   "metadata": {
    "slideshow": {
     "slide_type": "slide"
    }
   },
   "source": [
    "## Today\n",
    "\n",
    "- Recap of `Python + Pandas for Real-World Data`\n",
    "- Data Cleaning\n",
    "- Grouping\n",
    "- Visulaization\n"
   ]
  },
  {
   "cell_type": "markdown",
   "id": "218fdb2f",
   "metadata": {
    "slideshow": {
     "slide_type": "slide"
    }
   },
   "source": [
    "# Downloading Snippets or Execute in online."
   ]
  },
  {
   "cell_type": "markdown",
   "id": "4e838072",
   "metadata": {
    "slideshow": {
     "slide_type": "subslide"
    }
   },
   "source": [
    "- [Github Repository](https://github.com/skilldisk/Python-Pandas-for-Real-World-Data-Data-Wrangling-Made-Easy.git)\n",
    "[![Binder](https://mybinder.org/badge_logo.svg)](https://mybinder.org/v2/gh/skilldisk/Python-Pandas-for-Real-World-Data-Data-Wrangling-Made-Easy/main?urlpath=%2Fdoc%2Ftree%2Fjune_22.ipynb)"
   ]
  },
  {
   "cell_type": "markdown",
   "id": "0ffe8f05",
   "metadata": {
    "slideshow": {
     "slide_type": "slide"
    }
   },
   "source": [
    "# Recap"
   ]
  },
  {
   "cell_type": "markdown",
   "id": "7fae478a",
   "metadata": {
    "slideshow": {
     "slide_type": "slide"
    }
   },
   "source": [
    "# Pandas Data Structure"
   ]
  },
  {
   "cell_type": "markdown",
   "id": "aae46700",
   "metadata": {
    "slideshow": {
     "slide_type": "subslide"
    }
   },
   "source": [
    "- Series"
   ]
  },
  {
   "cell_type": "markdown",
   "id": "dd9f4f5e",
   "metadata": {
    "slideshow": {
     "slide_type": "fragment"
    }
   },
   "source": [
    "- DataFrame"
   ]
  },
  {
   "cell_type": "markdown",
   "id": "44d6c609",
   "metadata": {
    "slideshow": {
     "slide_type": "slide"
    }
   },
   "source": [
    "# Creating Pandas DataStructure"
   ]
  },
  {
   "cell_type": "markdown",
   "id": "47ce6a20",
   "metadata": {
    "slideshow": {
     "slide_type": "slide"
    }
   },
   "source": [
    "## Series"
   ]
  },
  {
   "cell_type": "markdown",
   "id": "59aa788c",
   "metadata": {
    "slideshow": {
     "slide_type": "subslide"
    }
   },
   "source": [
    "- list\n",
    "- tuple\n",
    "- dictionary"
   ]
  },
  {
   "cell_type": "code",
   "execution_count": null,
   "id": "924dc0be",
   "metadata": {
    "slideshow": {
     "slide_type": "subslide"
    }
   },
   "outputs": [],
   "source": [
    "import pandas as pd"
   ]
  },
  {
   "cell_type": "code",
   "execution_count": null,
   "id": "15a82aeb",
   "metadata": {
    "slideshow": {
     "slide_type": "subslide"
    }
   },
   "outputs": [],
   "source": [
    "even = [2, 4, 6, 8, 10, 12]\n",
    "\n",
    "series_data = pd.Series(even)\n",
    "series_data"
   ]
  },
  {
   "cell_type": "code",
   "execution_count": null,
   "id": "5334bac6",
   "metadata": {
    "slideshow": {
     "slide_type": "subslide"
    }
   },
   "outputs": [],
   "source": [
    "series_data.name = \"even\""
   ]
  },
  {
   "cell_type": "code",
   "execution_count": null,
   "id": "d5cfd28c",
   "metadata": {
    "slideshow": {
     "slide_type": "fragment"
    }
   },
   "outputs": [],
   "source": [
    "series_data.info"
   ]
  },
  {
   "cell_type": "code",
   "execution_count": null,
   "id": "e276333e",
   "metadata": {
    "slideshow": {
     "slide_type": "subslide"
    }
   },
   "outputs": [],
   "source": [
    "student = {'name':\"Kishore\", 'age':20, 'place':\"Bengaluru\", 'email':\"kishore@email.com\"}\n",
    "student_data = pd.Series(student)\n",
    "student_data"
   ]
  },
  {
   "cell_type": "code",
   "execution_count": null,
   "id": "bd2adc60",
   "metadata": {
    "slideshow": {
     "slide_type": "fragment"
    }
   },
   "outputs": [],
   "source": [
    "student_data.info"
   ]
  },
  {
   "cell_type": "markdown",
   "id": "8410da08",
   "metadata": {
    "slideshow": {
     "slide_type": "slide"
    }
   },
   "source": [
    "# DataFrame"
   ]
  },
  {
   "cell_type": "code",
   "execution_count": null,
   "id": "bbd6abaa",
   "metadata": {
    "slideshow": {
     "slide_type": "subslide"
    }
   },
   "outputs": [],
   "source": [
    "student = {\n",
    "    \"name\": ['Kishore', 'Vinay', 'Adithya', 'Kumar', 'Vijaya'],\n",
    "    \"place\": ['Bengaluru', 'Mysore', 'Bengaluru', 'Tumakuru', 'Mysore'],\n",
    "    \"age\": [21, 23, 20, 21, 19]\n",
    "}\n",
    "\n",
    "student_df = pd.DataFrame(student)\n",
    "student_df"
   ]
  },
  {
   "cell_type": "code",
   "execution_count": null,
   "id": "6037caf8",
   "metadata": {
    "slideshow": {
     "slide_type": "subslide"
    }
   },
   "outputs": [],
   "source": [
    "student_df.index"
   ]
  },
  {
   "cell_type": "code",
   "execution_count": null,
   "id": "8d52a749",
   "metadata": {
    "slideshow": {
     "slide_type": "fragment"
    }
   },
   "outputs": [],
   "source": [
    "student_df.columns"
   ]
  },
  {
   "cell_type": "code",
   "execution_count": null,
   "id": "219d4007",
   "metadata": {
    "slideshow": {
     "slide_type": "fragment"
    }
   },
   "outputs": [],
   "source": [
    "student_df.name"
   ]
  },
  {
   "cell_type": "markdown",
   "id": "7aa49843",
   "metadata": {
    "slideshow": {
     "slide_type": "slide"
    }
   },
   "source": [
    "# Reading the files"
   ]
  },
  {
   "cell_type": "code",
   "execution_count": null,
   "id": "4653f132",
   "metadata": {
    "slideshow": {
     "slide_type": "subslide"
    }
   },
   "outputs": [],
   "source": [
    "data = pd.read_csv('./data/clean_data_crop.csv')"
   ]
  },
  {
   "cell_type": "markdown",
   "id": "0b2f2099",
   "metadata": {
    "slideshow": {
     "slide_type": "slide"
    }
   },
   "source": [
    "# Inspecting\n"
   ]
  },
  {
   "cell_type": "markdown",
   "id": "4280ab45",
   "metadata": {
    "slideshow": {
     "slide_type": "fragment"
    }
   },
   "source": [
    "checking how the data looks like, how many rows/columns there are, and how much data we have."
   ]
  },
  {
   "cell_type": "markdown",
   "id": "47c4bed8",
   "metadata": {
    "slideshow": {
     "slide_type": "subslide"
    }
   },
   "source": [
    "### How many rows and columns are there?"
   ]
  },
  {
   "cell_type": "code",
   "execution_count": null,
   "id": "ad7ac0bf",
   "metadata": {
    "slideshow": {
     "slide_type": "fragment"
    }
   },
   "outputs": [],
   "source": [
    "data.shape"
   ]
  },
  {
   "cell_type": "markdown",
   "id": "4e85134a",
   "metadata": {
    "slideshow": {
     "slide_type": "fragment"
    }
   },
   "source": [
    "### Column names"
   ]
  },
  {
   "cell_type": "code",
   "execution_count": null,
   "id": "e6de2d46",
   "metadata": {
    "slideshow": {
     "slide_type": "fragment"
    }
   },
   "outputs": [],
   "source": [
    "data.columns"
   ]
  },
  {
   "cell_type": "markdown",
   "id": "f1680c61",
   "metadata": {
    "slideshow": {
     "slide_type": "subslide"
    }
   },
   "source": [
    "### Data Types"
   ]
  },
  {
   "cell_type": "code",
   "execution_count": null,
   "id": "49f8a76c",
   "metadata": {
    "slideshow": {
     "slide_type": "fragment"
    }
   },
   "outputs": [],
   "source": [
    "data.dtypes"
   ]
  },
  {
   "cell_type": "markdown",
   "id": "c9bcbde4",
   "metadata": {
    "slideshow": {
     "slide_type": "subslide"
    }
   },
   "source": [
    "### What does the data look like?"
   ]
  },
  {
   "cell_type": "code",
   "execution_count": null,
   "id": "3a685856",
   "metadata": {
    "slideshow": {
     "slide_type": "fragment"
    }
   },
   "outputs": [],
   "source": [
    "data.head()"
   ]
  },
  {
   "cell_type": "code",
   "execution_count": null,
   "id": "c4a6e8e4",
   "metadata": {
    "slideshow": {
     "slide_type": "subslide"
    }
   },
   "outputs": [],
   "source": [
    "data"
   ]
  },
  {
   "cell_type": "markdown",
   "id": "0cbecaf6",
   "metadata": {
    "slideshow": {
     "slide_type": "subslide"
    }
   },
   "source": [
    "### Information on DataFrames"
   ]
  },
  {
   "cell_type": "code",
   "execution_count": null,
   "id": "8c5ec1cc",
   "metadata": {
    "slideshow": {
     "slide_type": "fragment"
    }
   },
   "outputs": [],
   "source": [
    "data.info()"
   ]
  },
  {
   "cell_type": "markdown",
   "id": "6d9caec9",
   "metadata": {
    "slideshow": {
     "slide_type": "slide"
    }
   },
   "source": [
    "## Selecting Columns"
   ]
  },
  {
   "cell_type": "code",
   "execution_count": null,
   "id": "5460ddf4",
   "metadata": {
    "slideshow": {
     "slide_type": "fragment"
    }
   },
   "outputs": [],
   "source": [
    "data.State"
   ]
  },
  {
   "cell_type": "code",
   "execution_count": null,
   "id": "9433144d",
   "metadata": {
    "slideshow": {
     "slide_type": "subslide"
    }
   },
   "outputs": [],
   "source": [
    "data['State']"
   ]
  },
  {
   "cell_type": "markdown",
   "id": "af51990d",
   "metadata": {
    "slideshow": {
     "slide_type": "slide"
    }
   },
   "source": [
    "## Multiple selection"
   ]
  },
  {
   "cell_type": "markdown",
   "id": "ae784b5d",
   "metadata": {
    "slideshow": {
     "slide_type": "fragment"
    }
   },
   "source": [
    "create another data frame with info of *State*, *Year*, *Rice*."
   ]
  },
  {
   "cell_type": "code",
   "execution_count": null,
   "id": "a59dd65e",
   "metadata": {
    "slideshow": {
     "slide_type": "subslide"
    }
   },
   "outputs": [],
   "source": [
    "data[['State','Year', 'Rice']]"
   ]
  },
  {
   "cell_type": "markdown",
   "id": "c6b7aea9",
   "metadata": {
    "slideshow": {
     "slide_type": "slide"
    }
   },
   "source": [
    "## Selecting Rows"
   ]
  },
  {
   "cell_type": "markdown",
   "id": "d826a34b",
   "metadata": {
    "slideshow": {
     "slide_type": "subslide"
    }
   },
   "source": [
    "Selecting rows 11 to 20"
   ]
  },
  {
   "cell_type": "code",
   "execution_count": null,
   "id": "7b44796a",
   "metadata": {
    "slideshow": {
     "slide_type": "fragment"
    }
   },
   "outputs": [],
   "source": [
    "data[11:21]"
   ]
  },
  {
   "cell_type": "markdown",
   "id": "243fae68",
   "metadata": {
    "slideshow": {
     "slide_type": "slide"
    }
   },
   "source": [
    "## Indexing"
   ]
  },
  {
   "cell_type": "markdown",
   "id": "9a362b10",
   "metadata": {
    "slideshow": {
     "slide_type": "fragment"
    }
   },
   "source": [
    "- `iloc[]` by their position\n",
    "- `loc[]` by ther name"
   ]
  },
  {
   "cell_type": "code",
   "execution_count": null,
   "id": "7ad310e7",
   "metadata": {
    "slideshow": {
     "slide_type": "subslide"
    }
   },
   "outputs": [],
   "source": [
    "data.iloc[10:21]"
   ]
  },
  {
   "cell_type": "code",
   "execution_count": null,
   "id": "13f33fd6",
   "metadata": {
    "scrolled": true,
    "slideshow": {
     "slide_type": "subslide"
    }
   },
   "outputs": [],
   "source": [
    "data.iloc[30:35, 1:3]"
   ]
  },
  {
   "cell_type": "code",
   "execution_count": null,
   "id": "a672d334",
   "metadata": {
    "slideshow": {
     "slide_type": "subslide"
    }
   },
   "outputs": [],
   "source": [
    "data.loc[30:35, 'State':'Wheat']"
   ]
  },
  {
   "cell_type": "markdown",
   "id": "6490a7ce",
   "metadata": {
    "slideshow": {
     "slide_type": "slide"
    }
   },
   "source": [
    "## Filtering"
   ]
  },
  {
   "cell_type": "markdown",
   "id": "86e79a77",
   "metadata": {
    "slideshow": {
     "slide_type": "fragment"
    }
   },
   "source": [
    "using **Boolean Mask**"
   ]
  },
  {
   "cell_type": "code",
   "execution_count": null,
   "id": "5200ea94",
   "metadata": {
    "slideshow": {
     "slide_type": "subslide"
    }
   },
   "outputs": [],
   "source": [
    "data['State'] == 'Karnataka'"
   ]
  },
  {
   "cell_type": "code",
   "execution_count": null,
   "id": "5eb68426",
   "metadata": {
    "slideshow": {
     "slide_type": "subslide"
    }
   },
   "outputs": [],
   "source": [
    "assam_mask = (data['State'] == 'Assam') & (data['Year']== '2022-23 ')\n",
    "data[assam_mask]"
   ]
  },
  {
   "cell_type": "code",
   "execution_count": null,
   "id": "16b08eb7",
   "metadata": {
    "slideshow": {
     "slide_type": "subslide"
    }
   },
   "outputs": [],
   "source": [
    "data[data['Rice']>15500][['State', 'Year', 'Rice']]\n",
    "# data[data['Rice']>15000]      "
   ]
  },
  {
   "cell_type": "markdown",
   "id": "4d5c199d",
   "metadata": {
    "slideshow": {
     "slide_type": "slide"
    }
   },
   "source": [
    "# Data Cleaning"
   ]
  },
  {
   "cell_type": "markdown",
   "id": "6a45a0b1",
   "metadata": {
    "slideshow": {
     "slide_type": "subslide"
    }
   },
   "source": [
    "- NaN : Identify & Handle\n",
    "- Data Types\n",
    "    - Identify\n",
    "    - Alter\n",
    "- Columns\n",
    "    - Rename\n",
    "    - Remove\n",
    "    - Create\n",
    "- Duplicates"
   ]
  },
  {
   "cell_type": "markdown",
   "id": "b1a2a72f",
   "metadata": {
    "slideshow": {
     "slide_type": "slide"
    }
   },
   "source": [
    "## NaN (Not a Number)"
   ]
  },
  {
   "cell_type": "code",
   "execution_count": null,
   "id": "7a9fd226",
   "metadata": {
    "slideshow": {
     "slide_type": "subslide"
    }
   },
   "outputs": [],
   "source": [
    "import pandas as pd\n",
    "data = pd.read_csv('./data/clean_data_crop.csv')\n",
    "data.head()"
   ]
  },
  {
   "cell_type": "code",
   "execution_count": null,
   "id": "1d9d2c98",
   "metadata": {
    "slideshow": {
     "slide_type": "subslide"
    }
   },
   "outputs": [],
   "source": [
    "data.sample(10)"
   ]
  },
  {
   "cell_type": "code",
   "execution_count": null,
   "id": "a6326aa1",
   "metadata": {
    "slideshow": {
     "slide_type": "subslide"
    }
   },
   "outputs": [],
   "source": [
    "data.isna()"
   ]
  },
  {
   "cell_type": "code",
   "execution_count": null,
   "id": "2ea96a22",
   "metadata": {
    "slideshow": {
     "slide_type": "subslide"
    }
   },
   "outputs": [],
   "source": [
    "data.isna().sum()"
   ]
  },
  {
   "cell_type": "code",
   "execution_count": null,
   "id": "21d92734",
   "metadata": {
    "slideshow": {
     "slide_type": "subslide"
    }
   },
   "outputs": [],
   "source": [
    "data.fillna(0)"
   ]
  },
  {
   "cell_type": "code",
   "execution_count": null,
   "id": "fa1a19d5",
   "metadata": {
    "slideshow": {
     "slide_type": "subslide"
    }
   },
   "outputs": [],
   "source": [
    "data.head()"
   ]
  },
  {
   "cell_type": "code",
   "execution_count": null,
   "id": "ea53f14e",
   "metadata": {
    "slideshow": {
     "slide_type": "subslide"
    }
   },
   "outputs": [],
   "source": [
    "data = data.fillna(0)\n",
    "data.head()"
   ]
  },
  {
   "cell_type": "markdown",
   "id": "d4ce4026",
   "metadata": {
    "slideshow": {
     "slide_type": "slide"
    }
   },
   "source": [
    "# Data Types"
   ]
  },
  {
   "cell_type": "code",
   "execution_count": null,
   "id": "0084d6fc",
   "metadata": {
    "slideshow": {
     "slide_type": "subslide"
    }
   },
   "outputs": [],
   "source": [
    "data.info()"
   ]
  },
  {
   "cell_type": "markdown",
   "id": "f7d0fa5c",
   "metadata": {
    "slideshow": {
     "slide_type": "subslide"
    }
   },
   "source": [
    "\n",
    "- int64\n",
    "- float64\n",
    "- datetime64[ns]\n",
    "- timedelta64[ns]\n",
    "- complex128\n",
    "- object\n",
    "- bool\n"
   ]
  },
  {
   "cell_type": "code",
   "execution_count": null,
   "id": "933ae5f0",
   "metadata": {
    "slideshow": {
     "slide_type": "subslide"
    }
   },
   "outputs": [],
   "source": [
    "data['Year'].apply(pd.to_datetime)"
   ]
  },
  {
   "cell_type": "code",
   "execution_count": null,
   "id": "0ba95189",
   "metadata": {
    "scrolled": true,
    "slideshow": {
     "slide_type": "subslide"
    }
   },
   "outputs": [],
   "source": [
    "data['Sugarcane'].apply(pd.to_numeric)"
   ]
  },
  {
   "cell_type": "markdown",
   "id": "1df52d00",
   "metadata": {
    "slideshow": {
     "slide_type": "subslide"
    }
   },
   "source": [
    "## Using String Methods"
   ]
  },
  {
   "cell_type": "code",
   "execution_count": null,
   "id": "9c75f7d0",
   "metadata": {
    "slideshow": {
     "slide_type": "fragment"
    }
   },
   "outputs": [],
   "source": [
    "data['Sugarcane'] = data['Sugarcane'].str.replace(',','')"
   ]
  },
  {
   "cell_type": "code",
   "execution_count": null,
   "id": "49101384",
   "metadata": {
    "slideshow": {
     "slide_type": "subslide"
    }
   },
   "outputs": [],
   "source": [
    "data['Sugarcane'].apply(pd.to_numeric)\n",
    "# data['Sugarcane'] = data['Sugarcane'].apply(pd.to_numeric)\n",
    "data.info()"
   ]
  },
  {
   "cell_type": "markdown",
   "id": "c8c41d46",
   "metadata": {
    "slideshow": {
     "slide_type": "subslide"
    }
   },
   "source": [
    "## Guess How to convert Year column to DateTime object?"
   ]
  },
  {
   "cell_type": "markdown",
   "id": "54603fb1",
   "metadata": {
    "slideshow": {
     "slide_type": "subslide"
    }
   },
   "source": [
    "## Hint\n",
    "\n",
    "- Check the data 'Year' column\n",
    "- Clean the string to match DateTime object\n",
    "- Convert to DateTime object"
   ]
  },
  {
   "cell_type": "markdown",
   "id": "3eea7dc6",
   "metadata": {
    "slideshow": {
     "slide_type": "subslide"
    }
   },
   "source": [
    "## Solution"
   ]
  },
  {
   "cell_type": "code",
   "execution_count": null,
   "id": "b9086fcf",
   "metadata": {
    "slideshow": {
     "slide_type": "fragment"
    }
   },
   "outputs": [],
   "source": [
    "data['Year'].str.slice(0,4)"
   ]
  },
  {
   "cell_type": "code",
   "execution_count": null,
   "id": "4ca8726c",
   "metadata": {
    "slideshow": {
     "slide_type": "subslide"
    }
   },
   "outputs": [],
   "source": [
    "data['Year'] = data['Year'].str.slice(0,4)\n",
    "data['Year'] = data['Year'].apply(pd.to_datetime)\n",
    "data.info()"
   ]
  },
  {
   "cell_type": "code",
   "execution_count": null,
   "id": "1d5633bd",
   "metadata": {
    "slideshow": {
     "slide_type": "subslide"
    }
   },
   "outputs": [],
   "source": [
    "data.head()"
   ]
  },
  {
   "cell_type": "markdown",
   "id": "d692e76e",
   "metadata": {
    "slideshow": {
     "slide_type": "slide"
    }
   },
   "source": [
    "# Columns"
   ]
  },
  {
   "cell_type": "markdown",
   "id": "cfedf397",
   "metadata": {
    "slideshow": {
     "slide_type": "subslide"
    }
   },
   "source": [
    "## Rename"
   ]
  },
  {
   "cell_type": "code",
   "execution_count": null,
   "id": "068eb061",
   "metadata": {
    "slideshow": {
     "slide_type": "subslide"
    }
   },
   "outputs": [],
   "source": [
    "data.head()\n",
    "# data.rename(columns={'Raw Jute & Mesta':'Jute'}) "
   ]
  },
  {
   "cell_type": "code",
   "execution_count": null,
   "id": "8ba771d3",
   "metadata": {
    "slideshow": {
     "slide_type": "subslide"
    }
   },
   "outputs": [],
   "source": [
    "data.head()"
   ]
  },
  {
   "cell_type": "code",
   "execution_count": null,
   "id": "614ca8ec",
   "metadata": {
    "slideshow": {
     "slide_type": "subslide"
    }
   },
   "outputs": [],
   "source": [
    "data = data.rename(\n",
    "    columns={\n",
    "        'Raw Jute & Mesta':'Jute',\n",
    "        'Food-grains':'Grains',\n",
    "    }\n",
    ")\n",
    "data.head()"
   ]
  },
  {
   "cell_type": "markdown",
   "id": "cd129973",
   "metadata": {
    "slideshow": {
     "slide_type": "subslide"
    }
   },
   "source": [
    "## Removing Column"
   ]
  },
  {
   "cell_type": "code",
   "execution_count": null,
   "id": "30bbed6b",
   "metadata": {
    "slideshow": {
     "slide_type": "subslide"
    }
   },
   "outputs": [],
   "source": [
    "data = data.drop(columns='Jute')\n",
    "data.head()"
   ]
  },
  {
   "cell_type": "markdown",
   "id": "2767a925",
   "metadata": {
    "slideshow": {
     "slide_type": "subslide"
    }
   },
   "source": [
    "## New Columns"
   ]
  },
  {
   "cell_type": "markdown",
   "id": "caae8adf",
   "metadata": {
    "slideshow": {
     "slide_type": "subslide"
    }
   },
   "source": [
    "Will combine the cultivation of `Pulses` + `Grains` with a new column as `PG`"
   ]
  },
  {
   "cell_type": "code",
   "execution_count": null,
   "id": "95acac8b",
   "metadata": {
    "slideshow": {
     "slide_type": "fragment"
    }
   },
   "outputs": [],
   "source": [
    "data['PG'] = data['Pulses'] + data['Grains']\n",
    "data.head()"
   ]
  },
  {
   "cell_type": "code",
   "execution_count": null,
   "id": "89ec1e04",
   "metadata": {
    "slideshow": {
     "slide_type": "subslide"
    }
   },
   "outputs": [],
   "source": [
    "data = data.drop(columns='PG')\n",
    "data.head()"
   ]
  },
  {
   "cell_type": "markdown",
   "id": "bc8dbdb6",
   "metadata": {
    "slideshow": {
     "slide_type": "subslide"
    }
   },
   "source": [
    "## Duplicates"
   ]
  },
  {
   "cell_type": "code",
   "execution_count": null,
   "id": "094e7747",
   "metadata": {
    "slideshow": {
     "slide_type": "subslide"
    }
   },
   "outputs": [],
   "source": [
    "data.duplicated()"
   ]
  },
  {
   "cell_type": "code",
   "execution_count": null,
   "id": "af7b54b8",
   "metadata": {
    "slideshow": {
     "slide_type": "fragment"
    }
   },
   "outputs": [],
   "source": [
    "data.duplicated().sum()"
   ]
  },
  {
   "cell_type": "code",
   "execution_count": null,
   "id": "6ca65935",
   "metadata": {
    "slideshow": {
     "slide_type": "subslide"
    }
   },
   "outputs": [],
   "source": [
    "data.duplicated('State')"
   ]
  },
  {
   "cell_type": "code",
   "execution_count": null,
   "id": "5c9d1363",
   "metadata": {
    "slideshow": {
     "slide_type": "fragment"
    }
   },
   "outputs": [],
   "source": [
    "data.duplicated('State').sum()"
   ]
  },
  {
   "cell_type": "code",
   "execution_count": null,
   "id": "8cc64818",
   "metadata": {
    "slideshow": {
     "slide_type": "subslide"
    }
   },
   "outputs": [],
   "source": [
    "data.duplicated(['State','Year']).sum()"
   ]
  },
  {
   "cell_type": "markdown",
   "id": "342086ae",
   "metadata": {
    "slideshow": {
     "slide_type": "slide"
    }
   },
   "source": [
    "# Grouping"
   ]
  },
  {
   "cell_type": "markdown",
   "id": "c77d74b2",
   "metadata": {
    "slideshow": {
     "slide_type": "subslide"
    }
   },
   "source": [
    "## Grouping by State"
   ]
  },
  {
   "cell_type": "code",
   "execution_count": null,
   "id": "c594de6c",
   "metadata": {
    "slideshow": {
     "slide_type": "fragment"
    }
   },
   "outputs": [],
   "source": [
    "group_data = data.groupby('State')"
   ]
  },
  {
   "cell_type": "code",
   "execution_count": null,
   "id": "844638a3",
   "metadata": {
    "slideshow": {
     "slide_type": "subslide"
    }
   },
   "outputs": [],
   "source": [
    "group_data.get_group('Karnataka')"
   ]
  },
  {
   "cell_type": "markdown",
   "id": "9f1f965e",
   "metadata": {
    "slideshow": {
     "slide_type": "subslide"
    }
   },
   "source": [
    "## Grouping by Year"
   ]
  },
  {
   "cell_type": "code",
   "execution_count": null,
   "id": "adb6228a",
   "metadata": {
    "slideshow": {
     "slide_type": "fragment"
    }
   },
   "outputs": [],
   "source": [
    "data.groupby('Year')"
   ]
  },
  {
   "cell_type": "code",
   "execution_count": null,
   "id": "1a7b7b83",
   "metadata": {
    "slideshow": {
     "slide_type": "subslide"
    }
   },
   "outputs": [],
   "source": [
    "data.groupby('Year').get_group('2022')"
   ]
  },
  {
   "cell_type": "markdown",
   "id": "79b271bd",
   "metadata": {
    "slideshow": {
     "slide_type": "subslide"
    }
   },
   "source": [
    "# Pivot"
   ]
  },
  {
   "cell_type": "code",
   "execution_count": null,
   "id": "08c5076b",
   "metadata": {
    "slideshow": {
     "slide_type": "subslide"
    }
   },
   "outputs": [],
   "source": [
    "rice_data = data[['State', 'Year', 'Rice']]\n",
    "rice_data.head()"
   ]
  },
  {
   "cell_type": "code",
   "execution_count": null,
   "id": "4bab921a",
   "metadata": {
    "slideshow": {
     "slide_type": "subslide"
    }
   },
   "outputs": [],
   "source": [
    "rice_data.pivot(index=\"State\", columns='Year')"
   ]
  },
  {
   "cell_type": "markdown",
   "id": "fcda07aa",
   "metadata": {
    "slideshow": {
     "slide_type": "slide"
    }
   },
   "source": [
    "# Visualization"
   ]
  },
  {
   "cell_type": "markdown",
   "id": "b4f3c263",
   "metadata": {
    "slideshow": {
     "slide_type": "subslide"
    }
   },
   "source": [
    "\n",
    "- Line graph\n",
    "- Subplots\n",
    "- Bar graph\n",
    "- Scatter Plot"
   ]
  },
  {
   "cell_type": "code",
   "execution_count": null,
   "id": "aaa1dabe",
   "metadata": {
    "slideshow": {
     "slide_type": "slide"
    }
   },
   "outputs": [],
   "source": [
    "data.sample(10)"
   ]
  },
  {
   "cell_type": "markdown",
   "id": "157cd1ea",
   "metadata": {
    "slideshow": {
     "slide_type": "subslide"
    }
   },
   "source": [
    "# Using plot method"
   ]
  },
  {
   "cell_type": "code",
   "execution_count": null,
   "id": "ec32812e",
   "metadata": {
    "slideshow": {
     "slide_type": "fragment"
    }
   },
   "outputs": [],
   "source": [
    "data.plot()"
   ]
  },
  {
   "cell_type": "markdown",
   "id": "f52c9b33",
   "metadata": {
    "slideshow": {
     "slide_type": "subslide"
    }
   },
   "source": [
    "- By default it took x axis as index\n",
    "- All the data Series with numberical data are plotted as line graph"
   ]
  },
  {
   "cell_type": "markdown",
   "id": "d3982efb",
   "metadata": {
    "slideshow": {
     "slide_type": "subslide"
    }
   },
   "source": [
    "Choosing `x` and `y` axis"
   ]
  },
  {
   "cell_type": "code",
   "execution_count": null,
   "id": "652ebc05",
   "metadata": {
    "slideshow": {
     "slide_type": "fragment"
    }
   },
   "outputs": [],
   "source": [
    "data.plot(x='Year', y='Rice')"
   ]
  },
  {
   "cell_type": "markdown",
   "id": "cc882948",
   "metadata": {
    "slideshow": {
     "slide_type": "subslide"
    }
   },
   "source": [
    "Choosing Particular State"
   ]
  },
  {
   "cell_type": "code",
   "execution_count": null,
   "id": "b1d4621b",
   "metadata": {
    "slideshow": {
     "slide_type": "fragment"
    }
   },
   "outputs": [],
   "source": [
    "data.groupby('State').get_group('Karnataka').plot(x='Year', y=['Rice'], title=\"Karnataka\")"
   ]
  },
  {
   "cell_type": "markdown",
   "id": "98197788",
   "metadata": {
    "slideshow": {
     "slide_type": "subslide"
    }
   },
   "source": [
    "## Try plotting the graph for other states"
   ]
  },
  {
   "cell_type": "code",
   "execution_count": null,
   "id": "dbc3777d",
   "metadata": {
    "slideshow": {
     "slide_type": "subslide"
    }
   },
   "outputs": [],
   "source": [
    "state = \"\"\n",
    "data.groupby('State').get_group(state).plot(x='Year', y=['Rice'], title=state)"
   ]
  },
  {
   "cell_type": "markdown",
   "id": "65fd3e71",
   "metadata": {
    "slideshow": {
     "slide_type": "subslide"
    }
   },
   "source": [
    "# Multiple data in Single plot"
   ]
  },
  {
   "cell_type": "code",
   "execution_count": null,
   "id": "9acaf790",
   "metadata": {
    "slideshow": {
     "slide_type": "fragment"
    }
   },
   "outputs": [],
   "source": [
    "data.groupby('State').get_group('Karnataka').plot(x='Year', y=['Rice', 'Cotton'], title=\"Karnataka\")"
   ]
  },
  {
   "cell_type": "markdown",
   "id": "26c7dbec",
   "metadata": {
    "slideshow": {
     "slide_type": "subslide"
    }
   },
   "source": [
    "## Altering Styles"
   ]
  },
  {
   "cell_type": "code",
   "execution_count": null,
   "id": "9ff8b7a7",
   "metadata": {
    "slideshow": {
     "slide_type": "fragment"
    }
   },
   "outputs": [],
   "source": [
    "data.groupby('State').get_group('Karnataka') \\\n",
    "    .plot(\n",
    "    x='Year', \n",
    "    y=['Rice', 'Cotton'], \n",
    "    title=\"Karnataka\",\n",
    "    style=['r--','g-.'],\n",
    "    grid=True\n",
    ")"
   ]
  },
  {
   "cell_type": "markdown",
   "id": "631bcb90",
   "metadata": {
    "slideshow": {
     "slide_type": "subslide"
    }
   },
   "source": [
    "## Sub Plots"
   ]
  },
  {
   "cell_type": "code",
   "execution_count": null,
   "id": "c0d1d46e",
   "metadata": {
    "slideshow": {
     "slide_type": "subslide"
    }
   },
   "outputs": [],
   "source": [
    "data.groupby('State').get_group('Karnataka').plot(x='Year', y=['Rice', 'Cotton'], title=\"Karnataka\", subplots=True)"
   ]
  },
  {
   "cell_type": "code",
   "execution_count": null,
   "id": "5f5a3538",
   "metadata": {
    "slideshow": {
     "slide_type": "subslide"
    }
   },
   "outputs": [],
   "source": [
    "data.groupby('State').get_group('Karnataka').plot(x='Year', title=\"Karnataka\")"
   ]
  },
  {
   "cell_type": "code",
   "execution_count": null,
   "id": "2d9c6fc7",
   "metadata": {
    "slideshow": {
     "slide_type": "subslide"
    }
   },
   "outputs": [],
   "source": [
    "data.groupby('State').get_group('Karnataka').plot(x='Year', title=\"Karnataka\",subplots=True)"
   ]
  },
  {
   "cell_type": "markdown",
   "id": "fd649e04",
   "metadata": {
    "slideshow": {
     "slide_type": "slide"
    }
   },
   "source": [
    "## Scatter Plot"
   ]
  },
  {
   "cell_type": "code",
   "execution_count": null,
   "id": "c88841e9",
   "metadata": {
    "slideshow": {
     "slide_type": "subslide"
    }
   },
   "outputs": [],
   "source": [
    "data.groupby('State').get_group('Karnataka').plot(x='Year',y='Rice', title=\"Karnataka\",subplots=True, kind='scatter')"
   ]
  },
  {
   "cell_type": "markdown",
   "id": "b9fd0fc5",
   "metadata": {
    "slideshow": {
     "slide_type": "slide"
    }
   },
   "source": [
    "## Bar Graph"
   ]
  },
  {
   "cell_type": "markdown",
   "id": "3da487b7",
   "metadata": {
    "slideshow": {
     "slide_type": "subslide"
    }
   },
   "source": [
    "- Comparing State wise rice production for a particular Year"
   ]
  },
  {
   "cell_type": "code",
   "execution_count": null,
   "id": "c0bf41b6",
   "metadata": {
    "slideshow": {
     "slide_type": "fragment"
    }
   },
   "outputs": [],
   "source": [
    "data.groupby('Year').get_group('2022').plot(x='State', y=['Rice'], title=\"2022\", kind='bar')"
   ]
  },
  {
   "cell_type": "code",
   "execution_count": null,
   "id": "5905b830",
   "metadata": {
    "slideshow": {
     "slide_type": "subslide"
    }
   },
   "outputs": [],
   "source": [
    "data.groupby('Year').get_group('2022').plot(x='State', y=['Rice', 'Cotton'], title=\"2022\", kind='bar')"
   ]
  },
  {
   "cell_type": "code",
   "execution_count": null,
   "id": "22b059d4",
   "metadata": {
    "slideshow": {
     "slide_type": "subslide"
    }
   },
   "outputs": [],
   "source": [
    "data.groupby('Year').get_group('2022').plot(x='State', y=['Rice'], title=\"2022\", kind='barh')"
   ]
  }
 ],
 "metadata": {
  "celltoolbar": "Slideshow",
  "kernelspec": {
   "display_name": "Python 3 (ipykernel)",
   "language": "python",
   "name": "python3"
  },
  "language_info": {
   "codemirror_mode": {
    "name": "ipython",
    "version": 3
   },
   "file_extension": ".py",
   "mimetype": "text/x-python",
   "name": "python",
   "nbconvert_exporter": "python",
   "pygments_lexer": "ipython3",
   "version": "3.13.1"
  }
 },
 "nbformat": 4,
 "nbformat_minor": 5
}
